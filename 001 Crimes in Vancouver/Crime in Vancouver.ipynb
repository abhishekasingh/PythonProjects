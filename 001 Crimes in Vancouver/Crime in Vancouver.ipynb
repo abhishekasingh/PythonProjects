{
 "cells": [
  {
   "cell_type": "markdown",
   "metadata": {},
   "source": [
    "<center><h1>Crimes in Vancouver</h1></center>"
   ]
  },
  {
   "cell_type": "code",
   "execution_count": 1,
   "metadata": {},
   "outputs": [],
   "source": [
    "import numpy as np\n",
    "import pandas as pd\n",
    "import seaborn as sns\n",
    "import matplotlib.pyplot as plt\n",
    "import calendar\n",
    "\n",
    "%matplotlib inline\n",
    "sns.set_style('whitegrid')"
   ]
  },
  {
   "cell_type": "code",
   "execution_count": 6,
   "metadata": {},
   "outputs": [],
   "source": [
    "crime_vancouver = pd.read_csv('crime_csv_all_years.csv')"
   ]
  },
  {
   "cell_type": "code",
   "execution_count": 7,
   "metadata": {},
   "outputs": [],
   "source": [
    "crime_vancouver.columns = crime_vancouver.columns.str.lower()"
   ]
  },
  {
   "cell_type": "code",
   "execution_count": 8,
   "metadata": {},
   "outputs": [
    {
     "data": {
      "text/html": [
       "<div>\n",
       "<style scoped>\n",
       "    .dataframe tbody tr th:only-of-type {\n",
       "        vertical-align: middle;\n",
       "    }\n",
       "\n",
       "    .dataframe tbody tr th {\n",
       "        vertical-align: top;\n",
       "    }\n",
       "\n",
       "    .dataframe thead th {\n",
       "        text-align: right;\n",
       "    }\n",
       "</style>\n",
       "<table border=\"1\" class=\"dataframe\">\n",
       "  <thead>\n",
       "    <tr style=\"text-align: right;\">\n",
       "      <th></th>\n",
       "      <th>year</th>\n",
       "      <th>month</th>\n",
       "      <th>day</th>\n",
       "      <th>hour</th>\n",
       "      <th>minute</th>\n",
       "      <th>x</th>\n",
       "      <th>y</th>\n",
       "    </tr>\n",
       "  </thead>\n",
       "  <tbody>\n",
       "    <tr>\n",
       "      <th>count</th>\n",
       "      <td>604815.000000</td>\n",
       "      <td>604815.000000</td>\n",
       "      <td>604815.000000</td>\n",
       "      <td>544154.000000</td>\n",
       "      <td>544154.000000</td>\n",
       "      <td>604815.000000</td>\n",
       "      <td>6.048150e+05</td>\n",
       "    </tr>\n",
       "    <tr>\n",
       "      <th>mean</th>\n",
       "      <td>2010.272381</td>\n",
       "      <td>6.466991</td>\n",
       "      <td>15.393985</td>\n",
       "      <td>13.723303</td>\n",
       "      <td>17.080459</td>\n",
       "      <td>442860.853025</td>\n",
       "      <td>4.909417e+06</td>\n",
       "    </tr>\n",
       "    <tr>\n",
       "      <th>std</th>\n",
       "      <td>5.020556</td>\n",
       "      <td>3.414385</td>\n",
       "      <td>8.749439</td>\n",
       "      <td>6.751286</td>\n",
       "      <td>18.452316</td>\n",
       "      <td>147886.179955</td>\n",
       "      <td>1.639172e+06</td>\n",
       "    </tr>\n",
       "    <tr>\n",
       "      <th>min</th>\n",
       "      <td>2003.000000</td>\n",
       "      <td>1.000000</td>\n",
       "      <td>1.000000</td>\n",
       "      <td>0.000000</td>\n",
       "      <td>0.000000</td>\n",
       "      <td>0.000000</td>\n",
       "      <td>0.000000e+00</td>\n",
       "    </tr>\n",
       "    <tr>\n",
       "      <th>25%</th>\n",
       "      <td>2006.000000</td>\n",
       "      <td>4.000000</td>\n",
       "      <td>8.000000</td>\n",
       "      <td>9.000000</td>\n",
       "      <td>0.000000</td>\n",
       "      <td>490007.400000</td>\n",
       "      <td>5.453752e+06</td>\n",
       "    </tr>\n",
       "    <tr>\n",
       "      <th>50%</th>\n",
       "      <td>2010.000000</td>\n",
       "      <td>6.000000</td>\n",
       "      <td>15.000000</td>\n",
       "      <td>15.000000</td>\n",
       "      <td>11.000000</td>\n",
       "      <td>491525.980000</td>\n",
       "      <td>5.456899e+06</td>\n",
       "    </tr>\n",
       "    <tr>\n",
       "      <th>75%</th>\n",
       "      <td>2015.000000</td>\n",
       "      <td>9.000000</td>\n",
       "      <td>23.000000</td>\n",
       "      <td>19.000000</td>\n",
       "      <td>30.000000</td>\n",
       "      <td>493497.925000</td>\n",
       "      <td>5.458678e+06</td>\n",
       "    </tr>\n",
       "    <tr>\n",
       "      <th>max</th>\n",
       "      <td>2019.000000</td>\n",
       "      <td>12.000000</td>\n",
       "      <td>31.000000</td>\n",
       "      <td>23.000000</td>\n",
       "      <td>59.000000</td>\n",
       "      <td>511303.000000</td>\n",
       "      <td>5.512579e+06</td>\n",
       "    </tr>\n",
       "  </tbody>\n",
       "</table>\n",
       "</div>"
      ],
      "text/plain": [
       "                year          month            day           hour  \\\n",
       "count  604815.000000  604815.000000  604815.000000  544154.000000   \n",
       "mean     2010.272381       6.466991      15.393985      13.723303   \n",
       "std         5.020556       3.414385       8.749439       6.751286   \n",
       "min      2003.000000       1.000000       1.000000       0.000000   \n",
       "25%      2006.000000       4.000000       8.000000       9.000000   \n",
       "50%      2010.000000       6.000000      15.000000      15.000000   \n",
       "75%      2015.000000       9.000000      23.000000      19.000000   \n",
       "max      2019.000000      12.000000      31.000000      23.000000   \n",
       "\n",
       "              minute              x             y  \n",
       "count  544154.000000  604815.000000  6.048150e+05  \n",
       "mean       17.080459  442860.853025  4.909417e+06  \n",
       "std        18.452316  147886.179955  1.639172e+06  \n",
       "min         0.000000       0.000000  0.000000e+00  \n",
       "25%         0.000000  490007.400000  5.453752e+06  \n",
       "50%        11.000000  491525.980000  5.456899e+06  \n",
       "75%        30.000000  493497.925000  5.458678e+06  \n",
       "max        59.000000  511303.000000  5.512579e+06  "
      ]
     },
     "execution_count": 8,
     "metadata": {},
     "output_type": "execute_result"
    }
   ],
   "source": [
    "crime_vancouver.describe()"
   ]
  },
  {
   "cell_type": "code",
   "execution_count": 9,
   "metadata": {},
   "outputs": [
    {
     "data": {
      "text/plain": [
       "type                 0\n",
       "year                 0\n",
       "month                0\n",
       "day                  0\n",
       "hour             60661\n",
       "minute           60661\n",
       "hundred_block       13\n",
       "neighbourhood    63100\n",
       "x                    0\n",
       "y                    0\n",
       "dtype: int64"
      ]
     },
     "execution_count": 9,
     "metadata": {},
     "output_type": "execute_result"
    }
   ],
   "source": [
    "crime_vancouver.isnull().sum()"
   ]
  },
  {
   "cell_type": "markdown",
   "metadata": {},
   "source": [
    "## Types of crimes in Vancouver"
   ]
  },
  {
   "cell_type": "code",
   "execution_count": 1,
   "metadata": {},
   "outputs": [
    {
     "ename": "NameError",
     "evalue": "name 'crime_vancouver' is not defined",
     "output_type": "error",
     "traceback": [
      "\u001b[1;31m---------------------------------------------------------------------------\u001b[0m",
      "\u001b[1;31mNameError\u001b[0m                                 Traceback (most recent call last)",
      "\u001b[1;32m<ipython-input-1-5f8df813de9e>\u001b[0m in \u001b[0;36m<module>\u001b[1;34m\u001b[0m\n\u001b[1;32m----> 1\u001b[1;33m \u001b[0mcrime_vancouver\u001b[0m\u001b[1;33m[\u001b[0m\u001b[1;34m'type'\u001b[0m\u001b[1;33m]\u001b[0m\u001b[1;33m.\u001b[0m\u001b[0mvalue_counts\u001b[0m\u001b[1;33m(\u001b[0m\u001b[1;33m)\u001b[0m\u001b[1;33m\u001b[0m\u001b[1;33m\u001b[0m\u001b[0m\n\u001b[0m",
      "\u001b[1;31mNameError\u001b[0m: name 'crime_vancouver' is not defined"
     ]
    }
   ],
   "source": [
    "crime_vancouver['type'].value_counts()"
   ]
  },
  {
   "cell_type": "code",
   "execution_count": 13,
   "metadata": {},
   "outputs": [
    {
     "data": {
      "image/png": "[encoded data removed]",
      "text/plain": [
       "<Figure size 864x432 with 1 Axes>"
      ]
     },
     "metadata": {
      "needs_background": "light"
     },
     "output_type": "display_data"
    }
   ],
   "source": [
    "plt.figure(figsize=(12,6))\n",
    "plt.title('Types of Crime',fontdict={'fontsize':'30'},pad=20)\n",
    "ax = sns.countplot(x='type',data=crime_vancouver, order = crime_vancouver['type'].value_counts().index)\n",
    "ax.set(xlabel='Types of Crime')\n",
    "ax.set(ylabel='Counts')\n",
    "plt.setp(ax.get_xticklabels(), rotation=25, horizontalalignment='right')\n",
    "plt.tight_layout()"
   ]
  },
  {
   "cell_type": "markdown",
   "metadata": {},
   "source": [
    "<div class=\"alert alert-info\" role=\"alert\">\n",
    "<h3>Top 3 types of crimes in Vancouver are:</h3>\n",
    "<ol>\n",
    "    <li>Theft from Vehicle</li>\n",
    "    <li>Mischief</li>\n",
    "    <li>Break and Enter Residentail/Other</li>\n",
    "</ol>\n",
    "</div>"
   ]
  },
  {
   "cell_type": "markdown",
   "metadata": {},
   "source": [
    "## Trends over the years"
   ]
  },
  {
   "cell_type": "code",
   "execution_count": 17,
   "metadata": {},
   "outputs": [
    {
     "data": {
      "image/png": "[encoded data removed]",
      "text/plain": [
       "<Figure size 864x432 with 1 Axes>"
      ]
     },
     "metadata": {
      "needs_background": "light"
     },
     "output_type": "display_data"
    }
   ],
   "source": [
    "plt.figure(figsize=(12,6))\n",
    "plt.title('Trends over the years (2003 - 2019)',fontdict={'fontsize':'30'},pad=20)\n",
    "ax = sns.countplot(x='year',data=crime_vancouver)\n",
    "ax.set(xlabel='Years', ylabel='Counts')\n",
    "plt.setp(ax.get_xticklabels(), rotation=25, horizontalalignment='right')\n",
    "plt.tight_layout()"
   ]
  },
  {
   "cell_type": "markdown",
   "metadata": {},
   "source": [
    "<div class=\"alert alert-info\" role=\"alert\">\n",
    "From the year 2003 to 2017 and the trends shows decresase in crime rate over the period.\n",
    "</div>"
   ]
  },
  {
   "cell_type": "markdown",
   "metadata": {},
   "source": [
    "## Safest area in Vancouver"
   ]
  },
  {
   "cell_type": "code",
   "execution_count": 22,
   "metadata": {},
   "outputs": [
    {
     "data": {
      "text/plain": [
       "neighbourhood\n",
       "Musqueam            568\n",
       "Stanley Park       4097\n",
       "South Cambie       5838\n",
       "Shaughnessy        6185\n",
       "West Point Grey    6569\n",
       "Name: counter, dtype: int64"
      ]
     },
     "execution_count": 22,
     "metadata": {},
     "output_type": "execute_result"
    }
   ],
   "source": [
    "crime_vancouver['counter'] = 1\n",
    "safe_region = crime_vancouver.groupby(['neighbourhood']).count()['counter'].sort_values(ascending=True).head(5)\n",
    "safe_region"
   ]
  },
  {
   "cell_type": "markdown",
   "metadata": {},
   "source": [
    "## Dangerous area in Vancouver"
   ]
  },
  {
   "cell_type": "code",
   "execution_count": 23,
   "metadata": {},
   "outputs": [
    {
     "data": {
      "text/plain": [
       "neighbourhood\n",
       "Central Business District    131962\n",
       "West End                      47202\n",
       "Fairview                      35802\n",
       "Mount Pleasant                35115\n",
       "Grandview-Woodland            30746\n",
       "Name: counter, dtype: int64"
      ]
     },
     "execution_count": 23,
     "metadata": {},
     "output_type": "execute_result"
    }
   ],
   "source": [
    "danger_region = crime_vancouver.groupby(['neighbourhood']).count()['counter'].sort_values(ascending=False).head(5)\n",
    "danger_region"
   ]
  },
  {
   "cell_type": "markdown",
   "metadata": {},
   "source": [
    "# Months having highest crime rate"
   ]
  },
  {
   "cell_type": "code",
   "execution_count": 27,
   "metadata": {},
   "outputs": [
    {
     "data": {
      "text/plain": [
       "month  day\n",
       "6      15     2298\n",
       "1      1      2202\n",
       "5      15     1949\n",
       "10     31     1942\n",
       "11     1      1923\n",
       "Name: counter, dtype: int64"
      ]
     },
     "execution_count": 27,
     "metadata": {},
     "output_type": "execute_result"
    }
   ],
   "source": [
    "months = crime_vancouver.groupby(['month','day']).count()['counter'].sort_values(ascending=False).head(5)\n",
    "months"
   ]
  },
  {
   "cell_type": "markdown",
   "metadata": {},
   "source": [
    "# Days having highest crime rate"
   ]
  },
  {
   "cell_type": "code",
   "execution_count": 30,
   "metadata": {},
   "outputs": [
    {
     "data": {
      "text/plain": [
       "day\n",
       "1     22341\n",
       "15    21957\n",
       "12    20971\n",
       "14    20851\n",
       "13    20740\n",
       "Name: counter, dtype: int64"
      ]
     },
     "execution_count": 30,
     "metadata": {},
     "output_type": "execute_result"
    }
   ],
   "source": [
    "crime_vancouver.groupby(['day']).count()['counter'].sort_values(ascending=False).head(5)"
   ]
  },
  {
   "cell_type": "markdown",
   "metadata": {},
   "source": [
    "# Time having highest crime rate"
   ]
  },
  {
   "cell_type": "code",
   "execution_count": 31,
   "metadata": {},
   "outputs": [
    {
     "data": {
      "text/plain": [
       "hour\n",
       "18.0    41454\n",
       "17.0    36312\n",
       "19.0    34167\n",
       "22.0    32660\n",
       "20.0    31940\n",
       "Name: counter, dtype: int64"
      ]
     },
     "execution_count": 31,
     "metadata": {},
     "output_type": "execute_result"
    }
   ],
   "source": [
    "crime_vancouver.groupby(['hour']).count()['counter'].sort_values(ascending=False).head(5)"
   ]
  }
 ],
 "metadata": {
  "kernelspec": {
   "display_name": "Python 3",
   "language": "python",
   "name": "python3"
  },
  "language_info": {
   "codemirror_mode": {
    "name": "ipython",
    "version": 3
   },
   "file_extension": ".py",
   "mimetype": "text/x-python",
   "name": "python",
   "nbconvert_exporter": "python",
   "pygments_lexer": "ipython3",
   "version": "3.7.3"
  }
 },
 "nbformat": 4,
 "nbformat_minor": 2
}
